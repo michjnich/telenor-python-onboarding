{
 "cells": [
  {
   "cell_type": "markdown",
   "id": "ad577c65-e287-4fff-bd84-f4493a453c2c",
   "metadata": {},
   "source": [
    "# Classes"
   ]
  },
  {
   "cell_type": "markdown",
   "id": "681f78af-db6b-44c5-9abb-59782adaaf51",
   "metadata": {},
   "source": [
    "At the simplest level, a class is an object that defines a data structure. "
   ]
  },
  {
   "cell_type": "code",
   "execution_count": 6,
   "id": "9640c69d-787c-4443-a72a-d3c4fd3c0c8e",
   "metadata": {},
   "outputs": [
    {
     "data": {
      "text/plain": [
       "{'name': 'buddy', 'race': 'Finsk lapphund', 'age': 10, 'is_a_good_boy': True}"
      ]
     },
     "execution_count": 6,
     "metadata": {},
     "output_type": "execute_result"
    }
   ],
   "source": [
    "class Dog:\n",
    "    name = None\n",
    "    race = None\n",
    "    age = None\n",
    "    is_a_good_boy = True\n",
    "    \n",
    "    def __init__(self, name, race, age, is_a_good_boy):\n",
    "        self.name = name\n",
    "        self.race = race\n",
    "        self.age = age\n",
    "        self.is_a_good_boy = is_a_good_boy\n",
    "    \n",
    "buddy = Dog(\"buddy\", \"Finsk lapphund\", 10, True)\n",
    "vars(buddy)"
   ]
  },
  {
   "cell_type": "markdown",
   "id": "50e36ff8-2235-4911-9272-8c628202c9b5",
   "metadata": {},
   "source": [
    "This structure can then be passed around and manipulated."
   ]
  },
  {
   "cell_type": "code",
   "execution_count": 4,
   "id": "b60fc9ab-5536-474f-a3b9-9bc2a847a711",
   "metadata": {},
   "outputs": [
    {
     "data": {
      "text/plain": [
       "{'name': 'buddy', 'race': 'Finsk lapphund', 'age': 10, 'is_a_good_boy': False}"
      ]
     },
     "execution_count": 4,
     "metadata": {},
     "output_type": "execute_result"
    }
   ],
   "source": [
    "def has_barked_all_night(dog):\n",
    "    dog.is_a_good_boy = False\n",
    "    return dog\n",
    "\n",
    "buddy = has_barked_all_night(buddy)\n",
    "vars(buddy)"
   ]
  },
  {
   "cell_type": "markdown",
   "id": "a01a9d1d-b4f2-4e96-a34c-d04c1c6304ae",
   "metadata": {},
   "source": [
    "Python also provides a `dataclass` decorator to make life easier when creating classes. This removes the need to manually incude the `__init__` method, and also provides functionality to make it much simpler to define many of the other dunder methods (eg. equality)."
   ]
  },
  {
   "cell_type": "code",
   "execution_count": 5,
   "id": "7ed23c25-6aad-4fbd-8f55-48aed7761cb7",
   "metadata": {},
   "outputs": [
    {
     "data": {
      "text/plain": [
       "{'name': 'buddy', 'race': 'Finsk lapphund', 'age': 10, 'is_a_good_boy': True}"
      ]
     },
     "execution_count": 5,
     "metadata": {},
     "output_type": "execute_result"
    }
   ],
   "source": [
    "from dataclasses import dataclass\n",
    "\n",
    "@dataclass\n",
    "class BetterDog:\n",
    "    name: str\n",
    "    race: str\n",
    "    age: int\n",
    "    is_a_good_boy: bool\n",
    "    \n",
    "    \n",
    "buddy2 = BetterDog(\"buddy\", \"Finsk lapphund\", 10, True)\n",
    "vars(buddy2)"
   ]
  },
  {
   "cell_type": "markdown",
   "id": "12f23dd8-202b-4d62-a58b-3e7f27e1c34e",
   "metadata": {},
   "source": [
    "This can then be manipulated and passed around in exactly the same way as the basic class"
   ]
  },
  {
   "cell_type": "code",
   "execution_count": null,
   "id": "1d5112f7-d835-4e85-8e4d-e99449720adf",
   "metadata": {},
   "outputs": [],
   "source": [
    "buddy2 = has_barked_all_night(buddy2)\n",
    "vars(uddy2)"
   ]
  }
 ],
 "metadata": {
  "kernelspec": {
   "display_name": "anaconda-2022.05-py39",
   "language": "python",
   "name": "conda-env-anaconda-2022.05-py39-py"
  },
  "language_info": {
   "codemirror_mode": {
    "name": "ipython",
    "version": 3
   },
   "file_extension": ".py",
   "mimetype": "text/x-python",
   "name": "python",
   "nbconvert_exporter": "python",
   "pygments_lexer": "ipython3",
   "version": "3.9.12"
  }
 },
 "nbformat": 4,
 "nbformat_minor": 5
}
