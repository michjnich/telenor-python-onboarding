{
 "cells": [
  {
   "cell_type": "markdown",
   "id": "6e308c52-12b7-4046-9c44-a018e6cc19bf",
   "metadata": {
    "tags": []
   },
   "source": [
    "# List comprehensions"
   ]
  },
  {
   "cell_type": "markdown",
   "id": "63adfe67-a68f-4eea-b00d-6c5310c29473",
   "metadata": {},
   "source": [
    "This code creates an empty list, then appends values to that list. "
   ]
  },
  {
   "cell_type": "code",
   "execution_count": 3,
   "id": "d4276dc1-31a5-4d48-b5f0-43fe059f3d8a",
   "metadata": {},
   "outputs": [
    {
     "name": "stdout",
     "output_type": "stream",
     "text": [
      "563 µs ± 9.71 µs per loop (mean ± std. dev. of 3 runs, 100 loops each)\n"
     ]
    }
   ],
   "source": [
    "%%timeit -n100 -r3\n",
    "\n",
    "my_list = []\n",
    "for i in range(10_000):\n",
    "    my_list.append(i)"
   ]
  },
  {
   "cell_type": "markdown",
   "id": "53ad0ccb-b82c-43be-b431-e4d493411b47",
   "metadata": {},
   "source": [
    "The following code does exactly the same thing, just using a list comprehension. You can see that the timing for this is significantly less - mainly becuse the list is created and populated all in one go, rather then being created and then mutated multiple times. "
   ]
  },
  {
   "cell_type": "code",
   "execution_count": 4,
   "id": "562c2ce4-a9a7-4581-bbd6-8a5060aeba21",
   "metadata": {},
   "outputs": [
    {
     "name": "stdout",
     "output_type": "stream",
     "text": [
      "294 µs ± 8.51 µs per loop (mean ± std. dev. of 3 runs, 100 loops each)\n"
     ]
    }
   ],
   "source": [
    "%%timeit -n100 -r3\n",
    "\n",
    "my_list = [i for i in range(10_000)]"
   ]
  },
  {
   "cell_type": "code",
   "execution_count": null,
   "id": "48a67dff-71f4-4ec3-ae78-47a7d10aec6c",
   "metadata": {},
   "outputs": [],
   "source": []
  }
 ],
 "metadata": {
  "kernelspec": {
   "display_name": "anaconda-2022.05-py39",
   "language": "python",
   "name": "conda-env-anaconda-2022.05-py39-py"
  },
  "language_info": {
   "codemirror_mode": {
    "name": "ipython",
    "version": 3
   },
   "file_extension": ".py",
   "mimetype": "text/x-python",
   "name": "python",
   "nbconvert_exporter": "python",
   "pygments_lexer": "ipython3",
   "version": "3.9.12"
  }
 },
 "nbformat": 4,
 "nbformat_minor": 5
}
